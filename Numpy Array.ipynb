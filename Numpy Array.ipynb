{
  "nbformat": 4,
  "nbformat_minor": 0,
  "metadata": {
    "colab": {
      "provenance": []
    },
    "kernelspec": {
      "name": "python3",
      "display_name": "Python 3"
    },
    "language_info": {
      "name": "python"
    }
  },
  "cells": [
    {
      "cell_type": "code",
      "execution_count": 1,
      "metadata": {
        "id": "wuOcG7h9oGeW"
      },
      "outputs": [],
      "source": [
        "import numpy as np\n"
      ]
    },
    {
      "cell_type": "code",
      "source": [
        "# Create a 1D array\n",
        "a = np.array([1, 2, 3])\n",
        "print(\"1D Array:\", a)\n",
        "\n",
        "# Create a 2D array (matrix)\n",
        "b = np.array([[1, 2], [3, 4],[10,12]])\n",
        "print(\"2D Array:\\n\", b)\n"
      ],
      "metadata": {
        "colab": {
          "base_uri": "https://localhost:8080/"
        },
        "id": "hs0CkBajoXNP",
        "outputId": "6a7ca0f6-01b8-42f4-857d-5ed012f38a6c"
      },
      "execution_count": 2,
      "outputs": [
        {
          "output_type": "stream",
          "name": "stdout",
          "text": [
            "1D Array: [1 2 3]\n",
            "2D Array:\n",
            " [[ 1  2]\n",
            " [ 3  4]\n",
            " [10 12]]\n"
          ]
        }
      ]
    },
    {
      "cell_type": "code",
      "source": [
        "print(\"Shape:\", b.shape)\n",
        "print(\"Size:\", b.size)\n",
        "print(\"Datatype:\", b.dtype)"
      ],
      "metadata": {
        "colab": {
          "base_uri": "https://localhost:8080/"
        },
        "id": "4emtm_GDoa7E",
        "outputId": "ddbfaec8-41dd-4f01-f762-69d1223401fe"
      },
      "execution_count": 3,
      "outputs": [
        {
          "output_type": "stream",
          "name": "stdout",
          "text": [
            "Shape: (3, 2)\n",
            "Size: 6\n",
            "Datatype: int64\n"
          ]
        }
      ]
    },
    {
      "cell_type": "code",
      "source": [
        "zeros = np.zeros((2, 3))      # 2x3 array of zeros\n",
        "zeros"
      ],
      "metadata": {
        "colab": {
          "base_uri": "https://localhost:8080/"
        },
        "id": "gam2PbWyocPr",
        "outputId": "1ee41674-ff7b-4d3a-8e78-0f4c3bb6a7ed"
      },
      "execution_count": 4,
      "outputs": [
        {
          "output_type": "execute_result",
          "data": {
            "text/plain": [
              "array([[0., 0., 0.],\n",
              "       [0., 0., 0.]])"
            ]
          },
          "metadata": {},
          "execution_count": 4
        }
      ]
    },
    {
      "cell_type": "code",
      "source": [
        "ones = np.ones((2, 3))\n",
        "ones\n"
      ],
      "metadata": {
        "colab": {
          "base_uri": "https://localhost:8080/"
        },
        "id": "X6d7Iv7IofvH",
        "outputId": "6244d061-d14d-43f8-cdce-46b8ddf7e3d9"
      },
      "execution_count": 6,
      "outputs": [
        {
          "output_type": "execute_result",
          "data": {
            "text/plain": [
              "array([[1., 1., 1.],\n",
              "       [1., 1., 1.]])"
            ]
          },
          "metadata": {},
          "execution_count": 6
        }
      ]
    },
    {
      "cell_type": "code",
      "source": [
        "randoms = np.random.rand(2, 2)\n",
        "randoms"
      ],
      "metadata": {
        "colab": {
          "base_uri": "https://localhost:8080/"
        },
        "id": "mOvs-YnfojhW",
        "outputId": "47762668-c61f-4edb-c975-ec38c1cdffb7"
      },
      "execution_count": 7,
      "outputs": [
        {
          "output_type": "execute_result",
          "data": {
            "text/plain": [
              "array([[0.89236452, 0.35608898],\n",
              "       [0.42285664, 0.62816681]])"
            ]
          },
          "metadata": {},
          "execution_count": 7
        }
      ]
    },
    {
      "cell_type": "code",
      "source": [
        "range_array = np.arange(0, 10, 2)\n",
        "range_array"
      ],
      "metadata": {
        "colab": {
          "base_uri": "https://localhost:8080/"
        },
        "id": "ckdXcDiuomdD",
        "outputId": "082a499a-aa1d-4944-bff6-2330d94c84ea"
      },
      "execution_count": 8,
      "outputs": [
        {
          "output_type": "execute_result",
          "data": {
            "text/plain": [
              "array([0, 2, 4, 6, 8])"
            ]
          },
          "metadata": {},
          "execution_count": 8
        }
      ]
    },
    {
      "cell_type": "code",
      "source": [
        "x = np.array([1, 2, 3])\n",
        "y = np.array([4, 5, 6])\n",
        "\n",
        "print(\"Addition:\", x + y)\n",
        "print(\"Multiplication:\", x * y)\n",
        "print(\"Dot Product:\", np.dot(x, y))"
      ],
      "metadata": {
        "colab": {
          "base_uri": "https://localhost:8080/"
        },
        "id": "jSQlasqyorwi",
        "outputId": "ea6066ee-ffdb-4f67-dfac-afa1a97e01b8"
      },
      "execution_count": 9,
      "outputs": [
        {
          "output_type": "stream",
          "name": "stdout",
          "text": [
            "Addition: [5 7 9]\n",
            "Multiplication: [ 4 10 18]\n",
            "Dot Product: 32\n"
          ]
        }
      ]
    },
    {
      "cell_type": "code",
      "source": [
        "arr = np.array([10, 20, 30, 40, 50])\n",
        "\n",
        "print(arr[0])\n",
        "print(arr[1:4])"
      ],
      "metadata": {
        "colab": {
          "base_uri": "https://localhost:8080/"
        },
        "id": "tLiPJcsXov67",
        "outputId": "199fbcfe-33fb-47da-d89e-4ff8fcf0d431"
      },
      "execution_count": 10,
      "outputs": [
        {
          "output_type": "stream",
          "name": "stdout",
          "text": [
            "10\n",
            "[20 30 40]\n"
          ]
        }
      ]
    },
    {
      "cell_type": "code",
      "source": [
        "# 1D, 2D, 3D arrays\n",
        "a = np.array([1, 2, 3])\n",
        "b = np.array([[1, 2], [3, 4]])\n",
        "c = np.array([[[1], [2]], [[3], [4]]])\n",
        "\n",
        "print(\"1D:\", a)\n",
        "print(\"2D:\\n\", b)\n",
        "print(\"3D:\\n\", c)"
      ],
      "metadata": {
        "colab": {
          "base_uri": "https://localhost:8080/"
        },
        "id": "eT3vpTDEo1Vh",
        "outputId": "de4c71f9-48a9-4611-a032-b78c3efa10cb"
      },
      "execution_count": 11,
      "outputs": [
        {
          "output_type": "stream",
          "name": "stdout",
          "text": [
            "1D: [1 2 3]\n",
            "2D:\n",
            " [[1 2]\n",
            " [3 4]]\n",
            "3D:\n",
            " [[[1]\n",
            "  [2]]\n",
            "\n",
            " [[3]\n",
            "  [4]]]\n"
          ]
        }
      ]
    },
    {
      "cell_type": "code",
      "source": [
        "np.random.randint(1, 10, (2, 3))"
      ],
      "metadata": {
        "colab": {
          "base_uri": "https://localhost:8080/"
        },
        "id": "bxfMztnbo4qI",
        "outputId": "37e1a042-b7d9-4a46-bb81-3293d9d39e75"
      },
      "execution_count": 12,
      "outputs": [
        {
          "output_type": "execute_result",
          "data": {
            "text/plain": [
              "array([[9, 9, 7],\n",
              "       [9, 7, 8]])"
            ]
          },
          "metadata": {},
          "execution_count": 12
        }
      ]
    },
    {
      "cell_type": "code",
      "source": [
        "arr = np.array([[1, 2, 3], [4, 5, 6]])\n",
        "print(\"Reshape to 3x2:\\n\", arr.reshape(3, 2))\n",
        "print(\"Flatten:\", arr.flatten())"
      ],
      "metadata": {
        "colab": {
          "base_uri": "https://localhost:8080/"
        },
        "id": "A-c3d9h-o79M",
        "outputId": "bc75719b-8a1a-4750-b093-9ccd9b40c1cb"
      },
      "execution_count": 13,
      "outputs": [
        {
          "output_type": "stream",
          "name": "stdout",
          "text": [
            "Reshape to 3x2:\n",
            " [[1 2]\n",
            " [3 4]\n",
            " [5 6]]\n",
            "Flatten: [1 2 3 4 5 6]\n"
          ]
        }
      ]
    },
    {
      "cell_type": "code",
      "source": [
        "a = np.array([1, 2])\n",
        "b = np.array([3, 4])\n",
        "\n",
        "print(\"Vertical Stack:\\n\", np.vstack((a, b)))\n",
        "print(\"Horizontal Stack:\\n\", np.hstack((a, b)))"
      ],
      "metadata": {
        "colab": {
          "base_uri": "https://localhost:8080/"
        },
        "id": "4TBBjFmRpCPK",
        "outputId": "639edb17-b40e-4c6f-8be1-00f34cf375bb"
      },
      "execution_count": 14,
      "outputs": [
        {
          "output_type": "stream",
          "name": "stdout",
          "text": [
            "Vertical Stack:\n",
            " [[1 2]\n",
            " [3 4]]\n",
            "Horizontal Stack:\n",
            " [1 2 3 4]\n"
          ]
        }
      ]
    },
    {
      "cell_type": "code",
      "source": [
        "arr = np.array([10, 20, 30, 40, 50])\n",
        "print(\"Greater than 30:\", arr[arr > 30])\n"
      ],
      "metadata": {
        "colab": {
          "base_uri": "https://localhost:8080/"
        },
        "id": "u-dNC8F4pEwn",
        "outputId": "1caca3a6-734b-4efe-afab-404bc8091c91"
      },
      "execution_count": 15,
      "outputs": [
        {
          "output_type": "stream",
          "name": "stdout",
          "text": [
            "Greater than 30: [40 50]\n"
          ]
        }
      ]
    },
    {
      "cell_type": "code",
      "source": [
        "arr = np.array([[1, 2, 3], [4, 5, 6]])\n",
        "\n",
        "print(\"Sum:\", np.sum(arr))\n",
        "print(\"Max:\", np.max(arr))\n",
        "print(\"Mean:\", np.mean(arr))\n",
        "print(\"Std Dev:\", np.std(arr))\n",
        "print(\"Argmax:\", np.argmax(arr))\n",
        "\n",
        "a = np.array([[1], [2], [3]])\n",
        "b = np.array([10, 20, 30])\n",
        "\n",
        "# Automatically expands shapes to match\n",
        "print(\"Broadcasted Addition:\\n\", a + b)\n",
        "\n",
        "# Q: Create a 3x3 matrix with values from 1 to 9 and find the sum of its diagonal\n",
        "mat = np.arange(1, 10).reshape(3, 3)\n",
        "print(\"Matrix:\\n\", mat)\n",
        "print(\"Diagonal Sum:\", np.trace(mat))\n",
        "\n"
      ],
      "metadata": {
        "colab": {
          "base_uri": "https://localhost:8080/"
        },
        "id": "_GqURlsTpKjD",
        "outputId": "bd7c39e1-40ce-4367-a220-fad6a93cc847"
      },
      "execution_count": 16,
      "outputs": [
        {
          "output_type": "stream",
          "name": "stdout",
          "text": [
            "Sum: 21\n",
            "Max: 6\n",
            "Mean: 3.5\n",
            "Std Dev: 1.707825127659933\n",
            "Argmax: 5\n",
            "Broadcasted Addition:\n",
            " [[11 21 31]\n",
            " [12 22 32]\n",
            " [13 23 33]]\n",
            "Matrix:\n",
            " [[1 2 3]\n",
            " [4 5 6]\n",
            " [7 8 9]]\n",
            "Diagonal Sum: 15\n"
          ]
        }
      ]
    }
  ]
}